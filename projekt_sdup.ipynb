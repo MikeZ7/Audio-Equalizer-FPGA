{
 "cells": [
  {
   "cell_type": "markdown",
   "id": "014fd3e9",
   "metadata": {},
   "source": [
    "# Filtracja sygnału audio\n",
    "## Przedmiot: Systemy Dedykowane w Układach Programowalnych\n",
    "## Autorzy: Paweł Olbrych, Michał Zelek"
   ]
  },
  {
   "cell_type": "markdown",
   "id": "5283cc08",
   "metadata": {},
   "source": [
    "## Filtry\n",
    "\n",
    "\n",
    "Filtrację dźwięku można zrealizować jako **bank filtrów** — zestaw filtrów połączonych równolegle lub szeregowo i różniących się np. częstotliwością środkową czy typem[^eq-wiki]. System taki pozwala kształtować charakterystykę częstotliwościową sygnału zgodnie z potrzebami.\n",
    "\n",
    "- **Filtr peak (band-pass/boost-cut)** służy do zmiany poziomu amplitudy w zadanym paśmie.  \n",
    "- **Filtr notch (band-stop)** eliminuje wybrane składowe.  \n",
    "\n",
    "<!-- Rysunki peak_filter.png i notch_filter.png -->\n",
    "<img src=\"img/peak_filter.png\" style=\"width:40%;\">\n",
    "<!-- ![Charakterystyka filtru peak](img/peak_filter.png)   -->\n",
    "*Rys. 1. Charakterystyka filtru peak (oprac. własne).*\n",
    "\n",
    "<img src=\"img/notch_filter.png\" style=\"width:40%;\">\n",
    "<!-- ![Charakterystyka filtru notch](img/notch_filter.png)   -->\n",
    "*Rys. 2. Charakterystyka filtru notch (oprac. własne).*\n",
    "\n",
    "Parametry filtrów **peak** i **notch**:\n",
    "\n",
    "- $$f\\_0$$ – częstotliwość środkowa  \n",
    "- $$A$$ – wartość wzmocnienia  \n",
    "- $$BW$$ – pasmo (szerokość mierzoną przy \\(A{-}3\\) dB; dla notch zawsze \\(-3\\) dB)\n",
    "\n",
    "Obydwa są filtrami IIR 2-go rzędu, charakteryzującymi się dużą selektywnością.\n",
    "\n",
    "---\n",
    "\n",
    "## Projekt filtru IIR\n",
    "\n",
    "W procesie projektowania często korzysta się z protokołu analogowego, np. filtru LC z rys. 3:\n",
    "\n",
    "![Filtr pasmowo-zaporowy LC](img/Band-Reject_Filter.svg)  \n",
    "<!-- <img src=\"img/Band-Reject_Filter.svg\" style=\"width:30%;\"> -->\n",
    "*Rys. 3. Analogowy filtr band-stop[^br-svg].*\n",
    "\n",
    "Transmitancja obwodu:\n",
    "\n",
    "$$\n",
    "H(s)=\\frac{V_o}{V_i},\n",
    "\\qquad\n",
    "s=j2\\pi f=j\\omega.\n",
    "$$\n",
    "\n",
    "Impedancje elementów:\n",
    "\n",
    "$$\n",
    "X_C=\\frac{1}{j\\omega C}=\\frac{1}{sC},\n",
    "\\qquad\n",
    "X_L=j\\omega L=sL.\n",
    "$$\n",
    "\n",
    "Stosując prawo Kirchhoffa otrzymujemy  \n",
    "\n",
    "$$\n",
    "\\frac{V_i-V_o}{R}=\\frac{V_o}{X_L+X_C}.\n",
    "$$\n",
    "\n",
    "Po uproszczeniu:\n",
    "\n",
    "$$\n",
    "H(s)=\\frac{s^{2}+\\dfrac{1}{LC}}%\n",
    "        {s^{2}+s\\dfrac{R}{L}+\\dfrac{1}{LC}}\n",
    "     =\\frac{s^{2}+\\omega_0^{2}}%\n",
    "           {s^{2}+s\\omega_w+\\omega_0^{2}},\n",
    "$$\n",
    "\n",
    "gdzie \\(\\omega_0\\) – pulsacja środkowa,  \n",
    "\\(\\omega_w\\) – pulsacja pasma.\n",
    "\n",
    "### Transformacja biliniowa\n",
    "\n",
    "$$\n",
    "s=\\frac{2}{T}\\,\\frac{z-1}{z+1}\n",
    "$$\n",
    "\n",
    "pozwala przejść do dziedziny cyfrowej:\n",
    "\n",
    "$$\n",
    "H(z)=\\frac{b_0+b_1z^{-1}+b_2z^{-2}}%\n",
    "           {1+a_1z^{-1}+a_2z^{-2}}\n",
    "     =\\frac{Y(z)}{X(z)}.\n",
    "$$\n",
    "\n",
    "Równanie różnicowe (DF-I):\n",
    "\n",
    "$$\n",
    "y[n]=b_0x[n]+b_1x[n-1]+b_2x[n-2]\n",
    "      -a_1y[n-1]-a_2y[n-2].\n",
    "$$\n",
    "\n",
    "![Schemat blokowy filtru IIR](img/Biquad_filter_DF-I.svg)  \n",
    "*Rys. 4. Struktura biquada DF-I[^biquad-svg].*\n",
    "\n",
    "### Współczynniki filtrów peak / notch\n",
    "\n",
    "<table>\n",
    "  <thead><tr><th>Współczynnik</th><th>Wzór (blokowy)</th></tr></thead>\n",
    "  <tbody>\n",
    "    <tr><td><em>a</em><sub>0</sub></td>\n",
    "        <td>$$4 + 2\\frac{g}{Q}\\,\\omega_c T + (\\omega_c T)^2$$</td></tr>\n",
    "    <tr><td><em>a</em><sub>1</sub></td>\n",
    "        <td>$$\\displaystyle\\frac{2\\bigl((\\omega_c T)^2 - 8\\bigr)}{a_0}$$</td></tr>\n",
    "    <tr><td><em>a</em><sub>2</sub></td>\n",
    "        <td>$$\\displaystyle\\frac{4 - 2\\frac{g}{Q}\\,\\omega_c T + (\\omega_c T)^2}{a_0}$$</td></tr>\n",
    "    <tr><td><em>b</em><sub>0</sub></td>\n",
    "        <td>$$\\displaystyle\\frac{4 + 2\\frac{1}{Q}\\,\\omega_c T + (\\omega_c T)^2}{a_0}$$</td></tr>\n",
    "    <tr><td><em>b</em><sub>1</sub></td>\n",
    "        <td>$$\\displaystyle\\frac{-2\\bigl((\\omega_c T)^2 - 8\\bigr)}{a_0}$$</td></tr>\n",
    "    <tr><td><em>b</em><sub>2</sub></td>\n",
    "        <td>$$-\\displaystyle\\frac{4 - 2\\frac{1}{Q}\\,\\omega_c T + (\\omega_c T)^2}{a_0}$$</td></tr>\n",
    "  </tbody>\n",
    "</table>\n",
    "\n",
    "Parametry:  \n",
    "\n",
    "* $$g$$ – liniowa wartość wzmocnienia  \n",
    "* $$Q$$ – dobroć filtru  \n",
    "* $$T$$ – okres próbkowania  \n",
    "* $$\\omega_c$$ – pulsacja środkowa\n",
    "\n",
    "---\n",
    "\n",
    "[^octave-wiki]: <https://pl.wikipedia.org/wiki/Oktawa_(akustyka)>\n",
    "[^eq-wiki]: <https://pl.wikipedia.org/wiki/Equalization>\n",
    "[^br-svg]: Źródło grafiki: Wikipedia, _Band-Reject Filter.svg_ (CC-BY-SA).\n",
    "[^biquad-svg]: Źródło grafiki: Wikipedia, _Digital Biquad Filter DF-I.svg_ (CC-BY-SA).\n"
   ]
  },
  {
   "cell_type": "code",
   "execution_count": 153,
   "id": "3642d583",
   "metadata": {},
   "outputs": [],
   "source": [
    "from pynq import Overlay\n",
    "# zybo_sdup_ov = Overlay(\"design_AUDIO_AXI.xsa\")\n",
    "zybo_sdup_ov = Overlay(\"design_AdjustCoeffsAXI_wrapper.xsa\")"
   ]
  },
  {
   "cell_type": "code",
   "execution_count": 15,
   "id": "d2ffbb8f",
   "metadata": {},
   "outputs": [],
   "source": [
    "zybo_sdup_ov?\n"
   ]
  },
  {
   "cell_type": "code",
   "execution_count": 2,
   "id": "fe0ae7ae",
   "metadata": {},
   "outputs": [],
   "source": [
    "from pynq import MMIO\n",
    "\n",
    "mmio = MMIO(base_addr=0x40000000, length=0x1000)  # 4 kB"
   ]
  },
  {
   "cell_type": "code",
   "execution_count": null,
   "id": "21edcd24",
   "metadata": {},
   "outputs": [],
   "source": []
  },
  {
   "cell_type": "code",
   "execution_count": 13,
   "id": "a001fd49",
   "metadata": {},
   "outputs": [],
   "source": [
    "mmio.write(0x00, 0b01)\n",
    "# this stalls the kernel possiblly AXI signals issue"
   ]
  },
  {
   "cell_type": "code",
   "execution_count": 14,
   "id": "b746f152",
   "metadata": {},
   "outputs": [
    {
     "data": {
      "text/plain": [
       "1"
      ]
     },
     "execution_count": 14,
     "metadata": {},
     "output_type": "execute_result"
    }
   ],
   "source": [
    "mmio.read(0x00)\n",
    "# this stalls the kernel possiblly AXI signals issue"
   ]
  },
  {
   "cell_type": "code",
   "execution_count": 13,
   "id": "4f0852ae",
   "metadata": {},
   "outputs": [
    {
     "name": "stdout",
     "output_type": "stream",
     "text": [
      "siema tu zybo\n"
     ]
    }
   ],
   "source": [
    "print(\"siema tu zybo\")"
   ]
  },
  {
   "cell_type": "code",
   "execution_count": 7,
   "id": "f2d43b5b",
   "metadata": {},
   "outputs": [
    {
     "name": "stdout",
     "output_type": "stream",
     "text": [
      "<pynq.overlay.DefaultIP object at 0xacf579a0>\n"
     ]
    }
   ],
   "source": [
    "base_addr = zybo_sdup_ov.AudioProcessingSyste_0\n",
    "print(base_addr)"
   ]
  },
  {
   "cell_type": "code",
   "execution_count": 9,
   "id": "12ebaa16",
   "metadata": {},
   "outputs": [],
   "source": [
    "mmio.write(0x00, 0b01)"
   ]
  },
  {
   "cell_type": "code",
   "execution_count": 10,
   "id": "2afd1131",
   "metadata": {},
   "outputs": [],
   "source": [
    "mmio.write(0x00, 0b00)"
   ]
  },
  {
   "cell_type": "code",
   "execution_count": 21,
   "id": "1cddc230",
   "metadata": {},
   "outputs": [],
   "source": [
    "import json\n",
    "from pathlib import Path\n",
    "from typing import Union, Dict, Any\n",
    "from pynq import MMIO\n",
    "\n",
    "def float_to_fixed_point(value: float, decimal_bits: int = 30) -> int:\n",
    "    scaling_factor = 2 ** decimal_bits\n",
    "    signed_32 = int(round(value * scaling_factor)) & 0xFFFFFFFF\n",
    "    return signed_32       \n",
    "\n",
    "REG_OFFSET = {           # coefficient → indeks 0-4\n",
    "    \"b0\": 0,   # reg  0–7\n",
    "    \"b1\": 1,   # reg  8–15\n",
    "    \"b2\": 2,   # reg 16–23\n",
    "    \"a1\": 3,   # reg 24–31\n",
    "    \"a2\": 4    # reg 32–39\n",
    "}\n",
    "def load_eq_from_json(json_path: str,\n",
    "                      mmio: MMIO,\n",
    "                      enable_eq: bool = True,\n",
    "                      base_addr: int = 0x00) -> None:\n",
    "    \"\"\"reads filter_configuration.json → 41 registers AXI (0–40).\"\"\"\n",
    "    filters = json.loads(Path(json_path).read_text())[\"filters\"]\n",
    "    if len(filters) > 8:\n",
    "        raise ValueError(\"There is max 8 filters, found: %d\" % len(filters))\n",
    "\n",
    "    for section, f in enumerate(filters):\n",
    "        coeffs = {\n",
    "            \"b0\": f[\"coefficients\"][\"b\"][\"b0\"],\n",
    "            \"b1\": f[\"coefficients\"][\"b\"][\"b1\"],\n",
    "            \"b2\": f[\"coefficients\"][\"b\"][\"b2\"],\n",
    "            \"a1\": f[\"coefficients\"][\"a\"][\"a1\"],\n",
    "            \"a2\": f[\"coefficients\"][\"a\"][\"a2\"],\n",
    "        }\n",
    "        for name, val in coeffs.items():\n",
    "            reg_idx = section + 8 * REG_OFFSET[name]   # 0-39\n",
    "            addr    = base_addr + reg_idx * 4\n",
    "            mmio.write(addr, float_to_fixed_point(val))\n",
    "\n",
    "    # rejestr 40 – control_signal\n",
    "    mmio.write(base_addr + 40 * 4, 0x01 if enable_eq else 0x00)\n"
   ]
  },
  {
   "cell_type": "code",
   "execution_count": 18,
   "id": "ca1069bd",
   "metadata": {},
   "outputs": [],
   "source": [
    "ip_name = \"myip_v1_0_S00_AXI_0\"\n",
    "ip_info = zybo_sdup_ov.ip_dict[ip_name]\n",
    "mmio = MMIO(ip_info[\"phys_addr\"], 0xA4)"
   ]
  },
  {
   "cell_type": "code",
   "execution_count": 20,
   "id": "37b6319a",
   "metadata": {},
   "outputs": [
    {
     "name": "stdout",
     "output_type": "stream",
     "text": [
      "1073741824\n"
     ]
    }
   ],
   "source": [
    "print(ip_info[\"phys_addr\"])"
   ]
  },
  {
   "cell_type": "code",
   "execution_count": 142,
   "id": "5583b5e6",
   "metadata": {},
   "outputs": [],
   "source": [
    "load_eq_from_json(\"filters/filter_configuration.json\", mmio, enable_eq=True)"
   ]
  },
  {
   "cell_type": "markdown",
   "id": "1d11f609",
   "metadata": {},
   "source": [
    "Odtwarzanie dzwięku\n",
    "\n",
    "\n",
    "<audio controls>\n",
    "  <source src=\"audio_samples/music_sample-s.mp3\" type=\"audio/mpeg\">\n",
    "    Twoja przeglądarka nie obsługuje odtwarzania MP3.\n",
    "</audio>"
   ]
  },
  {
   "cell_type": "code",
   "execution_count": 159,
   "id": "8b857a7b",
   "metadata": {},
   "outputs": [],
   "source": [
    "# kaskada filtrów wzmamciających niskie częstotliwości \n",
    "load_eq_from_json(\"filters/bass_enhancer_filters.json\", mmio, enable_eq=True)"
   ]
  },
  {
   "cell_type": "code",
   "execution_count": 160,
   "id": "3f8e9178",
   "metadata": {},
   "outputs": [],
   "source": [
    "# kaskada filtrów tłumiących niskie częstotliwości \n",
    "load_eq_from_json(\"filters/bass_attenuate_filters.json\", mmio, enable_eq=True)"
   ]
  },
  {
   "cell_type": "markdown",
   "id": "f10f5be4",
   "metadata": {},
   "source": [
    "Wyłączenie filtrów"
   ]
  },
  {
   "cell_type": "code",
   "execution_count": 163,
   "id": "0e4c9f67",
   "metadata": {},
   "outputs": [],
   "source": [
    "#BYPASS brak filtracji sygnału\n",
    "mmio.write(0x00 + 40 * 4, 0x00)"
   ]
  },
  {
   "cell_type": "markdown",
   "id": "9501d71a",
   "metadata": {},
   "source": [
    "Odtwarzanie dzwięku ze zniekształceniem sinusoidalnym o częstotliwości 2 kHz\n",
    "\n",
    "\n",
    "<audio controls>\n",
    "  <source src=\"audio_samples/music_sample_2k_distortion-s.mp3\" type=\"audio/mpeg\">\n",
    "</audio>"
   ]
  },
  {
   "cell_type": "code",
   "execution_count": 162,
   "id": "7ff6292f",
   "metadata": {},
   "outputs": [],
   "source": [
    "# kaskada filtrów tłumiących częstotliwość 2kHz z Q=1\n",
    "load_eq_from_json(\"filters/2k_attenuate_filters.json\", mmio, enable_eq=True)"
   ]
  },
  {
   "cell_type": "markdown",
   "id": "63050ef7",
   "metadata": {},
   "source": [
    "Odtwarzanie dzwięku ze zniekształceniem sinusoidalnym o częstotliwości 5 kHz\n",
    "\n",
    "\n",
    "<audio controls>\n",
    "  <source src=\"audio_samples/music_sample_2k_distortion-s.mp3\" type=\"audio/mpeg\">\n",
    "</audio>\n",
    "\n",
    "filtracja ze współczynnikiem dobroci Q=1, filtr z pasmem 500Hz"
   ]
  },
  {
   "cell_type": "code",
   "execution_count": 155,
   "id": "cb99e1b6",
   "metadata": {},
   "outputs": [],
   "source": [
    "# kaskada filtrów tłumiących częstotliwość 5kHz z Q=1\n",
    "load_eq_from_json(\"filters/5k_atteunate_filters.json\", mmio, enable_eq=True)"
   ]
  },
  {
   "cell_type": "markdown",
   "id": "8f788d38",
   "metadata": {},
   "source": [
    "filtracja ze współczynnikiem dobroci Q=5, filtr z pasmem 100Hz"
   ]
  },
  {
   "cell_type": "code",
   "execution_count": 154,
   "id": "dca6c627",
   "metadata": {},
   "outputs": [],
   "source": [
    "# kaskada filtrów tłumiących częstotliwość 5kHz z większą selektywnością tj. Q=5, => pasmo filtru = f_filtra/Q => Pasmo = 5000/5 = 100Hz\n",
    "load_eq_from_json(\"filters/5k_attenuate_filters_narrow.json\", mmio, enable_eq=True)"
   ]
  },
  {
   "cell_type": "code",
   "execution_count": 151,
   "id": "9b659fd7",
   "metadata": {},
   "outputs": [
    {
     "name": "stdout",
     "output_type": "stream",
     "text": [
      "16 bit 44100 Hz\n"
     ]
    }
   ],
   "source": [
    "import wave, contextlib\n",
    "f='audio_samples/music_sample.wav'\n",
    "with contextlib.closing(wave.open(f)) as w: \n",
    "    print(w.getsampwidth()*8,'bit',w.getframerate(),'Hz')"
   ]
  },
  {
   "cell_type": "code",
   "execution_count": null,
   "id": "0dcac795",
   "metadata": {},
   "outputs": [],
   "source": []
  }
 ],
 "metadata": {
  "kernelspec": {
   "display_name": "Python 3 (ipykernel)",
   "language": "python",
   "name": "python3"
  },
  "language_info": {
   "codemirror_mode": {
    "name": "ipython",
    "version": 3
   },
   "file_extension": ".py",
   "mimetype": "text/x-python",
   "name": "python",
   "nbconvert_exporter": "python",
   "pygments_lexer": "ipython3",
   "version": "3.10.4"
  }
 },
 "nbformat": 4,
 "nbformat_minor": 5
}
